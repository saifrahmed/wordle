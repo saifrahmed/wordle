{
 "cells": [
  {
   "cell_type": "code",
   "execution_count": 1,
   "id": "72072195",
   "metadata": {},
   "outputs": [],
   "source": [
    "from termcolor import colored\n",
    "import random       "
   ]
  },
  {
   "cell_type": "code",
   "execution_count": 2,
   "id": "1cf1df61",
   "metadata": {},
   "outputs": [],
   "source": [
    "special_characters = \"'.!@#$%^&*()-+?_=,<>/0123456789\"\n",
    "dictionaryfile = 'words.txt'\n",
    "TRIES=5\n",
    "WORDLEN=7"
   ]
  },
  {
   "cell_type": "code",
   "execution_count": 3,
   "id": "781aa44b",
   "metadata": {},
   "outputs": [],
   "source": [
    "possible_words = []\n",
    "\n",
    "with open(dictionaryfile, encoding=\"utf-8\") as fp:\n",
    "    for rawline in fp:\n",
    "        try:\n",
    "            line = rawline.strip().upper()\n",
    "            #print(line)\n",
    "            if not any(c in special_characters for c in line):\n",
    "                if len(line)==WORDLEN:\n",
    "                    possible_words.append(line)\n",
    "        except:\n",
    "            print(\"Something went wrong when writing to the file\")"
   ]
  },
  {
   "cell_type": "code",
   "execution_count": 4,
   "id": "ac3c4145",
   "metadata": {},
   "outputs": [
    {
     "data": {
      "text/plain": [
       "50475"
      ]
     },
     "execution_count": 4,
     "metadata": {},
     "output_type": "execute_result"
    }
   ],
   "source": [
    "len(possible_words)"
   ]
  },
  {
   "cell_type": "code",
   "execution_count": 5,
   "id": "a6aec7da",
   "metadata": {},
   "outputs": [],
   "source": [
    "myword = random.choice(possible_words)"
   ]
  },
  {
   "cell_type": "code",
   "execution_count": 9,
   "id": "09b36c34",
   "metadata": {},
   "outputs": [
    {
     "name": "stdout",
     "output_type": "stream",
     "text": [
      "Enter your word guess 1 of 5: hurdles\n",
      "\u001b[31mH\u001b[0m\u001b[31mU\u001b[0m\u001b[31mR\u001b[0m\u001b[31mD\u001b[0m\u001b[32mL\u001b[0m\u001b[31mE\u001b[0m\u001b[31mS\u001b[0m\n",
      "\n",
      "Enter your word guess 2 of 5: curdles\n",
      "\u001b[31mC\u001b[0m\u001b[31mU\u001b[0m\u001b[31mR\u001b[0m\u001b[31mD\u001b[0m\u001b[32mL\u001b[0m\u001b[31mE\u001b[0m\u001b[31mS\u001b[0m\n",
      "\n",
      "Enter your word guess 3 of 5: vomits\n",
      "Enter your word guess again, a valid 7-char word please, 3 of 5: heckle\n",
      "Enter your word guess again, a valid 7-char word please, 3 of 5: heckled\n",
      "\u001b[31mH\u001b[0m\u001b[31mE\u001b[0m\u001b[31mC\u001b[0m\u001b[31mK\u001b[0m\u001b[32mL\u001b[0m\u001b[31mE\u001b[0m\u001b[31mD\u001b[0m\n",
      "\n",
      "Enter your word guess 4 of 5: plucked\n",
      "\u001b[32mP\u001b[0m\u001b[34mL\u001b[0m\u001b[31mU\u001b[0m\u001b[31mC\u001b[0m\u001b[31mK\u001b[0m\u001b[31mE\u001b[0m\u001b[31mD\u001b[0m\n",
      "\n",
      "Enter your word guess 5 of 5: plumler\n",
      "Enter your word guess again, a valid 7-char word please, 5 of 5: plumed\n",
      "Enter your word guess again, a valid 7-char word please, 5 of 5: estates\n",
      "\u001b[31mE\u001b[0m\u001b[31mS\u001b[0m\u001b[31mT\u001b[0m\u001b[34mA\u001b[0m\u001b[31mT\u001b[0m\u001b[31mE\u001b[0m\u001b[31mS\u001b[0m\n",
      "\n",
      "YOU LOSE :-(  the word was PAXILLI\n"
     ]
    }
   ],
   "source": [
    "for guessnum in range(1,TRIES+1):    \n",
    "    guess = input(f\"Enter your word guess {guessnum} of {TRIES}: \")\n",
    "    guess = guess.upper()\n",
    "    while len(guess)!=WORDLEN or guess not in possible_words:\n",
    "        guess = input(f\"Enter your word guess again, a valid {WORDLEN}-char word please, {guessnum} of {TRIES}: \")\n",
    "        guess = guess.upper()\n",
    "        \n",
    "    mask=['X' for _ in range(WORDLEN)]\n",
    "    for c in range(WORDLEN):\n",
    "        if guess[c]==myword[c]:\n",
    "            mask[c]=\"G\"\n",
    "        elif guess[c] in myword:\n",
    "            mask[c]=\"B\"\n",
    "    for c in range(WORDLEN):\n",
    "        if mask[c]==\"G\":\n",
    "            print(colored(guess[c], 'green'), end='')\n",
    "        elif mask[c]==\"B\":\n",
    "            print(colored(guess[c], 'blue'), end='')\n",
    "        else:\n",
    "            print(colored(guess[c], 'red'), end='')\n",
    "    print(\"\\n\")\n",
    "    if guess==myword:\n",
    "        print(\"YOU WIN!\")\n",
    "        break\n",
    "\n",
    "if guess!=myword:\n",
    "    print(f\"YOU LOSE :-(  the word was {myword}\")"
   ]
  },
  {
   "cell_type": "code",
   "execution_count": null,
   "id": "3e90bde4",
   "metadata": {},
   "outputs": [],
   "source": []
  }
 ],
 "metadata": {
  "kernelspec": {
   "display_name": "Python 3 (ipykernel)",
   "language": "python",
   "name": "python3"
  },
  "language_info": {
   "codemirror_mode": {
    "name": "ipython",
    "version": 3
   },
   "file_extension": ".py",
   "mimetype": "text/x-python",
   "name": "python",
   "nbconvert_exporter": "python",
   "pygments_lexer": "ipython3",
   "version": "3.9.7"
  }
 },
 "nbformat": 4,
 "nbformat_minor": 5
}
